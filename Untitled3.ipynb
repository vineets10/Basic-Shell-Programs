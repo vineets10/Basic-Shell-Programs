{
  "nbformat": 4,
  "nbformat_minor": 0,
  "metadata": {
    "colab": {
      "provenance": [],
      "collapsed_sections": [],
      "authorship_tag": "ABX9TyP88pvULBW3PTPRQsYW3Wkf",
      "include_colab_link": true
    },
    "kernelspec": {
      "name": "python3",
      "display_name": "Python 3"
    },
    "language_info": {
      "name": "python"
    }
  },
  "cells": [
    {
      "cell_type": "markdown",
      "metadata": {
        "id": "view-in-github",
        "colab_type": "text"
      },
      "source": [
        "<a href=\"https://colab.research.google.com/github/vineets10/Shinde/blob/master/Untitled3.ipynb\" target=\"_parent\"><img src=\"https://colab.research.google.com/assets/colab-badge.svg\" alt=\"Open In Colab\"/></a>"
      ]
    },
    {
      "cell_type": "code",
      "execution_count": null,
      "metadata": {
        "colab": {
          "base_uri": "https://localhost:8080/"
        },
        "id": "Os4BzOz0Ucd0",
        "outputId": "3b4b61fd-c611-4c36-d307-b81ff5bb622a"
      },
      "outputs": [
        {
          "output_type": "stream",
          "name": "stdout",
          "text": [
            "Looking in indexes: https://pypi.org/simple, https://us-python.pkg.dev/colab-wheels/public/simple/\n",
            "Requirement already satisfied: python-constraint in /usr/local/lib/python3.7/dist-packages (1.4.0)\n"
          ]
        }
      ],
      "source": [
        "pip install python-constraint"
      ]
    },
    {
      "cell_type": "code",
      "source": [
        "from constraint import *"
      ],
      "metadata": {
        "id": "56rRzkC8U2__"
      },
      "execution_count": null,
      "outputs": []
    },
    {
      "cell_type": "code",
      "source": [
        "movies = Problem()\n",
        "vals = ['DDLJ','ZNMD','YJHD','K3G','DHOOM']\n",
        "vars = ['s1_1','s2_1','s3_1','s4_1','s1_2','s2_2','s3_2','s4_2','s1_3','s2_3','s3_3','s4_3','s1_4','s2_4','s3_4','s4_4','s1_5','s2_5','s3_5','s4_5']\n",
        "movies.addVariables(vars,vals)\n"
      ],
      "metadata": {
        "id": "y_NpGOI8UDAy"
      },
      "execution_count": null,
      "outputs": []
    },
    {
      "cell_type": "code",
      "source": [
        "movies.addConstraint(AllDifferentConstraint(),['s1_1','s2_1','s3_1','s4_1'])\n",
        "movies.addConstraint(AllDifferentConstraint(),['s1_2','s2_2','s3_2','s4_2'])\n",
        "movies.addConstraint(AllDifferentConstraint(),['s1_3','s2_3','s3_3','s4_3'])\n",
        "movies.addConstraint(AllDifferentConstraint(),['s1_4','s2_4','s3_4','s4_4'])\n",
        "# movies.addConstraint(AllDifferentConstraint(),['s1_5','s2_5','s3_5','s4_5'])"
      ],
      "metadata": {
        "id": "dXGJQpDcZRg0"
      },
      "execution_count": null,
      "outputs": []
    },
    {
      "cell_type": "code",
      "source": [
        "def cons1(*args):\n",
        "  count=0\n",
        "  for i in args:\n",
        "    if i == 'DDLJ':\n",
        "      count+=1\n",
        "  if(count == 5):\n",
        "    return True\n",
        "  return False"
      ],
      "metadata": {
        "id": "wLujAADda2AO"
      },
      "execution_count": null,
      "outputs": []
    },
    {
      "cell_type": "code",
      "source": [
        "movies.addConstraint(cons1,vars)"
      ],
      "metadata": {
        "id": "evlDq-PSbvLd"
      },
      "execution_count": null,
      "outputs": []
    },
    {
      "cell_type": "code",
      "source": [
        "movies.getSolution()"
      ],
      "metadata": {
        "colab": {
          "base_uri": "https://localhost:8080/"
        },
        "id": "nj2elJCsb9Gc",
        "outputId": "f46240d1-943f-4f89-c5e0-caf2df036eec"
      },
      "execution_count": null,
      "outputs": [
        {
          "output_type": "execute_result",
          "data": {
            "text/plain": [
              "{'s1_4': 'DHOOM',\n",
              " 's2_4': 'K3G',\n",
              " 's3_4': 'YJHD',\n",
              " 's4_4': 'ZNMD',\n",
              " 's1_3': 'DHOOM',\n",
              " 's2_3': 'K3G',\n",
              " 's3_3': 'YJHD',\n",
              " 's4_3': 'ZNMD',\n",
              " 's1_1': 'DHOOM',\n",
              " 's2_1': 'K3G',\n",
              " 's3_1': 'YJHD',\n",
              " 's4_1': 'ZNMD',\n",
              " 's1_2': 'DHOOM',\n",
              " 's2_2': 'K3G',\n",
              " 's3_2': 'YJHD',\n",
              " 's4_2': 'DDLJ',\n",
              " 's1_5': 'DDLJ',\n",
              " 's2_5': 'DDLJ',\n",
              " 's3_5': 'DDLJ',\n",
              " 's4_5': 'DDLJ'}"
            ]
          },
          "metadata": {},
          "execution_count": 88
        }
      ]
    },
    {
      "cell_type": "code",
      "source": [
        "from random import choice\n",
        "class Node(object):\n",
        "    def _init_(self,depth,playerNum,n,value=0,brother=0):\n",
        "        self.depth=depth\n",
        "        self.playerNum=playerNum\n",
        "        self.resultDiv=n\n",
        "        self.value=value\n",
        "        self.brother=brother\n",
        "        self.children=[]\n",
        "        self.CreateChildren(n,brother)\n",
        "       \n",
        "       \n",
        "       \n",
        "\n",
        "    def CreateChildren(self,n,brother):\n",
        "       \n",
        "        if (brother == 0):\n",
        "       \n",
        "            for i in range (1, n//2 + 1):\n",
        "               \n",
        "                if i == n-i :\n",
        "                    continue\n",
        "               \n",
        "                A=(i,n-i)\n",
        "                if (A[0] not in [1,2] and A[1] in [1,2]) or (A[1] not in [1,2] and A[0] in [1,2]):\n",
        "                    RealVal = 0\n",
        "                    if A[0] not in [1,2]:\n",
        "                   \n",
        "                        self.children.append(Node(self.depth+1,-self.playerNum,A[0],RealVal))\n",
        "                   \n",
        "                    if A[0] in [1,2]:\n",
        "               \n",
        "                        self.children.append(Node(self.depth+1,-self.playerNum,A[1],RealVal))\n",
        "                       \n",
        "               \n",
        "                elif A[0] not in [1,2] and A[1] not in [1,2]:\n",
        "                    RealVal=0\n",
        "                   \n",
        "                    self.children.append(Node(self.depth+1,-self.playerNum,A[0],RealVal,A[1]))\n",
        "                   \n",
        "                   \n",
        "                if A[0] in [1,2] and A[1] in [1,2]:\n",
        "                        RealVal = self.playerNum\n",
        "                     \n",
        "                        self.children.append(Node(self.depth+1,-self.playerNum,A[0],RealVal,A[1]))\n",
        "                       \n",
        "           \n",
        "        if (brother!=0):\n",
        "            if brother in [1,2]:\n",
        "                return\n",
        "            for i in range (1, n//2 + 1):\n",
        "               \n",
        "                if i == n-i :\n",
        "                    continue\n",
        "               \n",
        "                A=(i,n-i)\n",
        "               \n",
        "                if A[1] in [1,2] and A[0] in [1,2]:\n",
        "                    RealVal=0\n",
        "                    self.children.append(Node(self.depth+1,-self.playerNum,brother,RealVal))\n",
        "               \n",
        "            \"\"\" if (A[0] not in [1,2] and A[1] in [1,2]) or (A[1] not in [1,2] and A[0] in [1,2]):\n",
        "                    RealVal = 0\n",
        "                    if A[0] not in [1,2]:\n",
        "                   \n",
        "                        self.children.append(Node(-self.playerNum,A[0],RealVal,brother))\n",
        "                   \n",
        "                    if A[1] not in [1,2]:\n",
        "               \n",
        "                        self.children.append(Node(-self.playerNum,A[1],RealVal,brother))\"\"\"\n",
        "               \n",
        "            for i in range (1,brother//2 +1 ):\n",
        "                if i== brother -i :\n",
        "                    continue\n",
        "                A=(i,brother-i)\n",
        "                if A[1] in [1,2] and A[0] in [1,2]:\n",
        "                    RealVal=0\n",
        "                    self.children.append(Node(self.depth+1,-self.playerNum,n,RealVal))\n",
        "               \n",
        "                if (A[0] not in [1,2] and A[1] in [1,2]) or (A[1] not in [1,2] and A[0] in [1,2]):\n",
        "                    RealVal = 0\n",
        "                    if A[0] not in [1,2]:\n",
        "                   \n",
        "                        self.children.append(Node(self.depth+1,-self.playerNum,A[0],RealVal,n))\n",
        "                   \n",
        "                    if A[1] not in [1,2]:\n",
        "               \n",
        "                        self.children.append(Node(self.depth+1,-self.playerNum,A[1],RealVal,n))\n",
        "                   \n",
        "               \n",
        "               \n",
        "#ALGORITHM\n",
        "def MinMax(node,depth,playerNum):\n",
        "    #if(depth==0) or (abs(node.value)==1):\n",
        "    if(abs(node.value)==1):\n",
        "        return node.value\n",
        "   \n",
        "    bestValue = -playerNum\n",
        "   \n",
        "    for i in range(len(node.children)):\n",
        "        child=node.children[i]\n",
        "        val=MinMax(child,child.depth,-playerNum)\n",
        "        if(abs(playerNum - val)) < abs(playerNum - bestValue):\n",
        "            bestValue=val\n",
        "    return bestValue\n",
        "\n",
        "\n",
        "#Wincheckfunction\n",
        "def WinCheck(pile,playerNum):\n",
        "    if pile in [1,2]:\n",
        "        if playerNum>0:\n",
        "            print(\"Human wins\")\n",
        "            return 0\n",
        "        else:\n",
        "            print(\"Computer wins\")\n",
        "            return 0\n",
        "   \n",
        "    if pile not in [1,2]:\n",
        "        return 1\n",
        "\n",
        "   \n",
        " \n",
        "#Main\n",
        "\n",
        "firstpile=7\n",
        "firstbrother=0\n",
        "curPlayer=1\n",
        "print(\"\\nInstruction:The player who can not divide the pile loses\\nYou can't divide 1 nor 2 \\nYou can't divide into two equal piles \\n---GoodLuck!---\")\n",
        "\n",
        "pile=firstpile\n",
        "brother = firstbrother\n",
        "\n",
        "depth=1\n",
        "while(pile not in [1,2] and brother in [0,1,2] or (pile not in [1,2] and brother not in [0,1,2]) ):\n",
        "#should add another while later pile not in AND brother not in\n",
        "   \n",
        "       \n",
        "   \n",
        "        print(\"\\nWhat would you pick?\\n\")\n",
        "        depth+=1\n",
        "       \n",
        "        for i in range(1,pile//2 +1):\n",
        "            if i == pile-i :\n",
        "                continue\n",
        "                   \n",
        "            A=(i,pile-i)\n",
        "            print(\";\",\"(\",A[0],\",\",A[1],\")\",\";\")\n",
        "           \n",
        "       \n",
        "        print(\"\\nEnter the first number of the couple\\nExample : 8 if the couple is (8,9)\")\n",
        "        brother=int(input())\n",
        "        print(\"\\nEnter the second number of the couple\\nExample : 9 if the couple is (8,9)\")\n",
        "        pile=int(input())\n",
        "       \n",
        "        if (pile not in [1,2] and brother in [0,1,2]):\n",
        "       \n",
        "            if brother in [0,1,2]:\n",
        "                brother=0\n",
        "               \n",
        "            # if pile in [1,2] and brother not in [1,2]:\n",
        "            #     a=brother\n",
        "           \n",
        "           \n",
        "           \n",
        "            if WinCheck(pile,curPlayer):\n",
        "                curPlayer*=-1\n",
        "                node=Node(depth,curPlayer,pile)\n",
        "                bestChoice=-10\n",
        "                bestValue=-curPlayer\n",
        "               \n",
        "                for i in range(len(node.children)):\n",
        "                    child=node.children[i]\n",
        "                    val=MinMax(child,child.depth,-curPlayer)\n",
        "                    if(abs(curPlayer - val)<= abs(curPlayer - bestValue)):\n",
        "                        bestValue=val\n",
        "                        bestChoice=child.resultDiv\n",
        "                        bro= pile - child.resultDiv\n",
        "                       \n",
        "                print(\"Computer chooses (\",bro,\",\",bestChoice,\")\"+\" \"+\"based on value \"+\" \",bestValue)\n",
        "               \n",
        "                pile=bestChoice\n",
        "                brother=node.brother\n",
        "                if WinCheck(pile,curPlayer)==0:\n",
        "                    print(\"\\nHuman can no longer divide \")\n",
        "                   # if curPlayer>0 :\n",
        "                   #     print(\"Computer can no longer divide \")\n",
        "                   # if curPlayer<0:\n",
        "                   #     print(\"Human can no longer divide\")\n",
        "               \n",
        "                curPlayer *=-1\n",
        "       \n",
        "       \n",
        "        if pile not in [1,2] and brother not in [0,1,2]:\n",
        "            #pc chooses 3 , donc nasn3ou node mta3 4 w depth +1\n",
        "            curPlayer*=-1\n",
        "            node1=Node(depth+1,curPlayer,pile)\n",
        "            node3=Node(depth,curPlayer,brother,0,pile)\n",
        "            # node2=Node(depth,curPlayer,brother)\n",
        "            # houni bch tet9leb\n",
        "            bestChoice1=-10\n",
        "            bestValue1=-curPlayer\n",
        "               \n",
        "            for i in range(len(node1.children)):\n",
        "                    child1=node1.children[i]\n",
        "                    val1=MinMax(child1,child1.depth,-curPlayer)\n",
        "                    if(abs(curPlayer - val1)<= abs(curPlayer - bestValue1)):\n",
        "                        bestValue1=val1\n",
        "                        bestChoice1=node3.resultDiv\n",
        "                        #bro1= brother\n",
        "            #pc chooses 4, nasn3ou node (3,0) depth 4 check korassa  \n",
        "            curPlayer2=-curPlayer\n",
        "           \n",
        "            node2=Node(depth+2,curPlayer2,brother)\n",
        "            bestChoice2=-10\n",
        "            bestValue2=-curPlayer2\n",
        "               \n",
        "            for i in range(len(node2.children)):\n",
        "                    child2=node2.children[i]\n",
        "                    val2=MinMax(child2,child2.depth,-curPlayer2)\n",
        "                    if(abs(curPlayer2 - val2)<= abs(curPlayer2 - bestValue2)):\n",
        "                        bestValue2=val2\n",
        "                        bestChoice2=node3.brother\n",
        "                        #bro2= pile\n",
        "           \n",
        "            if bestValue1>bestValue2:\n",
        "                print(\"\\nComputer chooses (\",bestChoice1,\")\"+\" \"+\"based on value \"+\" \",bestValue1)\n",
        "                #here plays human\n",
        "                print(\"\\nYour choice can be :\"+\" \",node3.brother)\n",
        "                pile=int(input(\"\\nEnter the pile to divide:\"))\n",
        "               \n",
        "                #pile=node1.resultDiv\n",
        "                brother=0\n",
        "             \n",
        "                curPlayer *=-1\n",
        "           \n",
        "            if bestValue1<bestValue2:\n",
        "                print(\"\\nComputer chooses (\",bestChoice2,\")\"+\" \"+\"based on value \"+\" \",bestValue1)\n",
        "                #here plays human\n",
        "                print(\"\\nYour choices are :\"+\" \",node3.resultDiv,+\" and \",node3.children[0].brother)\n",
        "                pile=int(input(\"\\nEnter the pile to divide:\"))\n",
        "                print(\"\\nComputer chooses \",node3.children[0].resultDiv,+\"based on value \"+\" \",bestValue1)\n",
        "                pile=node3.children[0].children[0].resultDiv\n",
        "                brother= node3.children[0].children[0].brother\n",
        "               \n",
        "                curPlayer *=-1\n",
        "\n",
        "            if bestValue1==bestValue2 :  \n",
        "                # seq=[bestChoice1,bestChoice2]\n",
        "                # selection=choice(seq)\n",
        "                # print(\"Computer chooses (\",selection,\")\"+\" \"+\"based on value \"+\" \",bestValue1)\n",
        "                # if selection == bestChoice1:\n",
        "                #     print(\"\\nYour choice can be :\"+\" \",node3.brother)\n",
        "                #     pile=int(input(\"\\nEnter the pile to divide:\"))\n",
        "               \n",
        "                #     brother=0\n",
        "                # else:\n",
        "                    print(\"\\nYour choices are : \",node3.resultDiv,\" and \",node3.children[0].brother)\n",
        "                    pile=int(input(\"\\nEnter the pile to divide:\"))\n",
        "                    print(\"\\nComputer chooses \",node3.children[0].resultDiv,\"based on value \",bestValue1)\n",
        "                    pile=node3.children[0].children[0].resultDiv\n",
        "                    brother= node3.children[0].children[0].brother\n",
        "                   \n",
        "            curPlayer *=-1"
      ],
      "metadata": {
        "id": "TzNxnK1YcGMe",
        "colab": {
          "base_uri": "https://localhost:8080/",
          "height": 564
        },
        "outputId": "2075750c-fa7c-4f37-e5ea-6b25e483e3b9"
      },
      "execution_count": null,
      "outputs": [
        {
          "name": "stdout",
          "output_type": "stream",
          "text": [
            "\n",
            "Instruction:The player who can not divide the pile loses\n",
            "You can't divide 1 nor 2 \n",
            "You can't divide into two equal piles \n",
            "---GoodLuck!---\n",
            "\n",
            "What would you pick?\n",
            "\n",
            "; ( 1 , 6 ) ;\n",
            "; ( 2 , 5 ) ;\n",
            "; ( 3 , 4 ) ;\n",
            "\n",
            "Enter the first number of the couple\n",
            "Example : 8 if the couple is (8,9)\n",
            "8\n",
            "\n",
            "Enter the second number of the couple\n",
            "Example : 9 if the couple is (8,9)\n",
            "9\n"
          ]
        },
        {
          "output_type": "error",
          "ename": "TypeError",
          "evalue": "ignored",
          "traceback": [
            "\u001b[0;31m---------------------------------------------------------------------------\u001b[0m",
            "\u001b[0;31mTypeError\u001b[0m                                 Traceback (most recent call last)",
            "\u001b[0;32m<ipython-input-89-ca008666d731>\u001b[0m in \u001b[0;36m<module>\u001b[0;34m\u001b[0m\n\u001b[1;32m    194\u001b[0m             \u001b[0;31m#pc chooses 3 , donc nasn3ou node mta3 4 w depth +1\u001b[0m\u001b[0;34m\u001b[0m\u001b[0;34m\u001b[0m\u001b[0;34m\u001b[0m\u001b[0m\n\u001b[1;32m    195\u001b[0m             \u001b[0mcurPlayer\u001b[0m\u001b[0;34m*=\u001b[0m\u001b[0;34m-\u001b[0m\u001b[0;36m1\u001b[0m\u001b[0;34m\u001b[0m\u001b[0;34m\u001b[0m\u001b[0m\n\u001b[0;32m--> 196\u001b[0;31m             \u001b[0mnode1\u001b[0m\u001b[0;34m=\u001b[0m\u001b[0mNode\u001b[0m\u001b[0;34m(\u001b[0m\u001b[0mdepth\u001b[0m\u001b[0;34m+\u001b[0m\u001b[0;36m1\u001b[0m\u001b[0;34m,\u001b[0m\u001b[0mcurPlayer\u001b[0m\u001b[0;34m,\u001b[0m\u001b[0mpile\u001b[0m\u001b[0;34m)\u001b[0m\u001b[0;34m\u001b[0m\u001b[0;34m\u001b[0m\u001b[0m\n\u001b[0m\u001b[1;32m    197\u001b[0m             \u001b[0mnode3\u001b[0m\u001b[0;34m=\u001b[0m\u001b[0mNode\u001b[0m\u001b[0;34m(\u001b[0m\u001b[0mdepth\u001b[0m\u001b[0;34m,\u001b[0m\u001b[0mcurPlayer\u001b[0m\u001b[0;34m,\u001b[0m\u001b[0mbrother\u001b[0m\u001b[0;34m,\u001b[0m\u001b[0;36m0\u001b[0m\u001b[0;34m,\u001b[0m\u001b[0mpile\u001b[0m\u001b[0;34m)\u001b[0m\u001b[0;34m\u001b[0m\u001b[0;34m\u001b[0m\u001b[0m\n\u001b[1;32m    198\u001b[0m             \u001b[0;31m# node2=Node(depth,curPlayer,brother)\u001b[0m\u001b[0;34m\u001b[0m\u001b[0;34m\u001b[0m\u001b[0;34m\u001b[0m\u001b[0m\n",
            "\u001b[0;31mTypeError\u001b[0m: Node() takes no arguments"
          ]
        }
      ]
    }
  ]
}